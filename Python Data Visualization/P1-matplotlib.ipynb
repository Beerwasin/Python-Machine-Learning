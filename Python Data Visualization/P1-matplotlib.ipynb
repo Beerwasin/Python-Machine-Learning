import matplotlib.pyplot as plt

x=[1,2,3,4,5,6,7]
y=[20,35,28,30,18,20,18]
plt.plot(x,y)
plt.show()
